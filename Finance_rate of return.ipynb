{
 "cells": [
  {
   "cell_type": "markdown",
   "id": "2c20e0e4",
   "metadata": {},
   "source": [
    "# Calculating and comparing rates of return in python\n"
   ]
  },
  {
   "cell_type": "markdown",
   "id": "d6d96af0",
   "metadata": {},
   "source": [
    "## 1. difference between bonds and stock\n"
   ]
  },
  {
   "cell_type": "markdown",
   "id": "4952f5ab",
   "metadata": {},
   "source": [
    "### BONDS (GOVT)\n",
    "3% RETURN;\n",
    "\n",
    "LOW RISK ( VERY LESS CHANCE FOR A GOVT TO GO BANKRUPT)\n",
    "\n",
    "INITIALINVESTMENT PLUS INTREST."
   ]
  },
  {
   "cell_type": "markdown",
   "id": "2df8114f",
   "metadata": {},
   "source": [
    "## STOCK\n",
    "\n",
    "6% RETURN\n",
    "\n",
    "HIGH FLUCTUTATION\n",
    "\n",
    "PRICE CHANGE ( as different variables effects the companies share prices)\n",
    "\n",
    "HIGHER UNCERTANITY AND RISK"
   ]
  },
  {
   "cell_type": "code",
   "execution_count": null,
   "id": "49f1d14e",
   "metadata": {},
   "outputs": [],
   "source": []
  },
  {
   "cell_type": "code",
   "execution_count": null,
   "id": "8b61dd5d",
   "metadata": {},
   "outputs": [],
   "source": []
  },
  {
   "cell_type": "markdown",
   "id": "dd1abbbf",
   "metadata": {},
   "source": [
    "## For me finanace is not about making good returns but making a very smart decision keeping in mind risks as well as returns, and optimizing the \"risk return\" combination of the investment portfolio"
   ]
  },
  {
   "cell_type": "code",
   "execution_count": null,
   "id": "a6198e60",
   "metadata": {},
   "outputs": [],
   "source": []
  },
  {
   "cell_type": "code",
   "execution_count": null,
   "id": "aabc74e9",
   "metadata": {},
   "outputs": [],
   "source": []
  },
  {
   "cell_type": "markdown",
   "id": "2d999195",
   "metadata": {},
   "source": [
    "### the notebook structure\n",
    "\n",
    "theory\n",
    "\n",
    "realworld application\n",
    "\n",
    "python implimation"
   ]
  },
  {
   "cell_type": "code",
   "execution_count": null,
   "id": "3813d4cf",
   "metadata": {},
   "outputs": [],
   "source": []
  },
  {
   "cell_type": "code",
   "execution_count": null,
   "id": "31abe46f",
   "metadata": {},
   "outputs": [],
   "source": []
  },
  {
   "cell_type": "markdown",
   "id": "a3080588",
   "metadata": {},
   "source": [
    "## rate of return\n",
    "\n",
    "#### simple rate of return = (ending price - beginning price)/ beginning price\n",
    "\n",
    "\n",
    "\n",
    "#### logarithmic rate of return :\n",
    "\n",
    "log(E.P/B.P) = log(E.P) - log(B.P)\n",
    "\n",
    "\n",
    "*** we shouldn't both the returns together as it'll ruin our calculation\n",
    "\n",
    "simple rate of return can be used when dealing with multiple assests over the same timeframe\n",
    "\n",
    "log return can be used to make calculations about a single assest over time.\n",
    "\n",
    "#### :> there are different kinds of time frameswe can use like yearly, monthly , daily.\n",
    "annualy is the most famous.\n",
    "\n",
    "\n",
    "#### annual = [(daily return + 1)^(365)] *100 - 1\n",
    "\n",
    "\n",
    "\n",
    "\n",
    "## Expected rates of return :\n",
    "\n",
    "we cannot predict the return but we can look at the historical data and predict an expected return which we might get. this is the closest we can predict future.\n",
    "\n",
    "\n",
    "\n",
    "\n",
    "\n",
    "\n"
   ]
  },
  {
   "cell_type": "code",
   "execution_count": 4,
   "id": "1a2ca8f0",
   "metadata": {
    "scrolled": true
   },
   "outputs": [],
   "source": [
    "# calculating rate of return\n",
    "\n",
    "import numpy as np\n",
    "from pandas_datareader import data as wb\n",
    "import matplotlib.pyplot as plt           # this allows us to use charts"
   ]
  },
  {
   "cell_type": "code",
   "execution_count": 7,
   "id": "6f617b78",
   "metadata": {},
   "outputs": [],
   "source": [
    "PG = wb.DataReader('PG', data_source='yahoo' , start='1995-1-1')   # this line is used to find the stock details of proctor and gamble."
   ]
  },
  {
   "cell_type": "code",
   "execution_count": 8,
   "id": "cde15ebc",
   "metadata": {
    "scrolled": true
   },
   "outputs": [
    {
     "data": {
      "text/html": [
       "<div>\n",
       "<style scoped>\n",
       "    .dataframe tbody tr th:only-of-type {\n",
       "        vertical-align: middle;\n",
       "    }\n",
       "\n",
       "    .dataframe tbody tr th {\n",
       "        vertical-align: top;\n",
       "    }\n",
       "\n",
       "    .dataframe thead th {\n",
       "        text-align: right;\n",
       "    }\n",
       "</style>\n",
       "<table border=\"1\" class=\"dataframe\">\n",
       "  <thead>\n",
       "    <tr style=\"text-align: right;\">\n",
       "      <th></th>\n",
       "      <th>High</th>\n",
       "      <th>Low</th>\n",
       "      <th>Open</th>\n",
       "      <th>Close</th>\n",
       "      <th>Volume</th>\n",
       "      <th>Adj Close</th>\n",
       "    </tr>\n",
       "    <tr>\n",
       "      <th>Date</th>\n",
       "      <th></th>\n",
       "      <th></th>\n",
       "      <th></th>\n",
       "      <th></th>\n",
       "      <th></th>\n",
       "      <th></th>\n",
       "    </tr>\n",
       "  </thead>\n",
       "  <tbody>\n",
       "    <tr>\n",
       "      <th>1995-01-03</th>\n",
       "      <td>15.62500</td>\n",
       "      <td>15.43750</td>\n",
       "      <td>15.46875</td>\n",
       "      <td>15.59375</td>\n",
       "      <td>3318400.0</td>\n",
       "      <td>7.926647</td>\n",
       "    </tr>\n",
       "    <tr>\n",
       "      <th>1995-01-04</th>\n",
       "      <td>15.65625</td>\n",
       "      <td>15.31250</td>\n",
       "      <td>15.53125</td>\n",
       "      <td>15.46875</td>\n",
       "      <td>2218800.0</td>\n",
       "      <td>7.863113</td>\n",
       "    </tr>\n",
       "    <tr>\n",
       "      <th>1995-01-05</th>\n",
       "      <td>15.43750</td>\n",
       "      <td>15.21875</td>\n",
       "      <td>15.37500</td>\n",
       "      <td>15.25000</td>\n",
       "      <td>2319600.0</td>\n",
       "      <td>7.751913</td>\n",
       "    </tr>\n",
       "    <tr>\n",
       "      <th>1995-01-06</th>\n",
       "      <td>15.40625</td>\n",
       "      <td>15.15625</td>\n",
       "      <td>15.15625</td>\n",
       "      <td>15.28125</td>\n",
       "      <td>3438000.0</td>\n",
       "      <td>7.767798</td>\n",
       "    </tr>\n",
       "    <tr>\n",
       "      <th>1995-01-09</th>\n",
       "      <td>15.40625</td>\n",
       "      <td>15.18750</td>\n",
       "      <td>15.34375</td>\n",
       "      <td>15.21875</td>\n",
       "      <td>1795200.0</td>\n",
       "      <td>7.736029</td>\n",
       "    </tr>\n",
       "  </tbody>\n",
       "</table>\n",
       "</div>"
      ],
      "text/plain": [
       "                High       Low      Open     Close     Volume  Adj Close\n",
       "Date                                                                    \n",
       "1995-01-03  15.62500  15.43750  15.46875  15.59375  3318400.0   7.926647\n",
       "1995-01-04  15.65625  15.31250  15.53125  15.46875  2218800.0   7.863113\n",
       "1995-01-05  15.43750  15.21875  15.37500  15.25000  2319600.0   7.751913\n",
       "1995-01-06  15.40625  15.15625  15.15625  15.28125  3438000.0   7.767798\n",
       "1995-01-09  15.40625  15.18750  15.34375  15.21875  1795200.0   7.736029"
      ]
     },
     "execution_count": 8,
     "metadata": {},
     "output_type": "execute_result"
    }
   ],
   "source": [
    "PG.head()"
   ]
  },
  {
   "cell_type": "code",
   "execution_count": 9,
   "id": "28ba479d",
   "metadata": {},
   "outputs": [
    {
     "data": {
      "text/html": [
       "<div>\n",
       "<style scoped>\n",
       "    .dataframe tbody tr th:only-of-type {\n",
       "        vertical-align: middle;\n",
       "    }\n",
       "\n",
       "    .dataframe tbody tr th {\n",
       "        vertical-align: top;\n",
       "    }\n",
       "\n",
       "    .dataframe thead th {\n",
       "        text-align: right;\n",
       "    }\n",
       "</style>\n",
       "<table border=\"1\" class=\"dataframe\">\n",
       "  <thead>\n",
       "    <tr style=\"text-align: right;\">\n",
       "      <th></th>\n",
       "      <th>High</th>\n",
       "      <th>Low</th>\n",
       "      <th>Open</th>\n",
       "      <th>Close</th>\n",
       "      <th>Volume</th>\n",
       "      <th>Adj Close</th>\n",
       "    </tr>\n",
       "    <tr>\n",
       "      <th>Date</th>\n",
       "      <th></th>\n",
       "      <th></th>\n",
       "      <th></th>\n",
       "      <th></th>\n",
       "      <th></th>\n",
       "      <th></th>\n",
       "    </tr>\n",
       "  </thead>\n",
       "  <tbody>\n",
       "    <tr>\n",
       "      <th>2022-05-09</th>\n",
       "      <td>156.759995</td>\n",
       "      <td>152.750000</td>\n",
       "      <td>153.960007</td>\n",
       "      <td>155.610001</td>\n",
       "      <td>8540800.0</td>\n",
       "      <td>155.610001</td>\n",
       "    </tr>\n",
       "    <tr>\n",
       "      <th>2022-05-10</th>\n",
       "      <td>156.619995</td>\n",
       "      <td>153.940002</td>\n",
       "      <td>155.550003</td>\n",
       "      <td>154.789993</td>\n",
       "      <td>7447400.0</td>\n",
       "      <td>154.789993</td>\n",
       "    </tr>\n",
       "    <tr>\n",
       "      <th>2022-05-11</th>\n",
       "      <td>155.899994</td>\n",
       "      <td>152.350006</td>\n",
       "      <td>154.029999</td>\n",
       "      <td>152.610001</td>\n",
       "      <td>7692200.0</td>\n",
       "      <td>152.610001</td>\n",
       "    </tr>\n",
       "    <tr>\n",
       "      <th>2022-05-12</th>\n",
       "      <td>153.610001</td>\n",
       "      <td>149.880005</td>\n",
       "      <td>153.520004</td>\n",
       "      <td>151.990005</td>\n",
       "      <td>9600800.0</td>\n",
       "      <td>151.990005</td>\n",
       "    </tr>\n",
       "    <tr>\n",
       "      <th>2022-05-13</th>\n",
       "      <td>153.729996</td>\n",
       "      <td>150.419998</td>\n",
       "      <td>152.580002</td>\n",
       "      <td>153.619995</td>\n",
       "      <td>5675200.0</td>\n",
       "      <td>153.619995</td>\n",
       "    </tr>\n",
       "  </tbody>\n",
       "</table>\n",
       "</div>"
      ],
      "text/plain": [
       "                  High         Low        Open       Close     Volume  \\\n",
       "Date                                                                    \n",
       "2022-05-09  156.759995  152.750000  153.960007  155.610001  8540800.0   \n",
       "2022-05-10  156.619995  153.940002  155.550003  154.789993  7447400.0   \n",
       "2022-05-11  155.899994  152.350006  154.029999  152.610001  7692200.0   \n",
       "2022-05-12  153.610001  149.880005  153.520004  151.990005  9600800.0   \n",
       "2022-05-13  153.729996  150.419998  152.580002  153.619995  5675200.0   \n",
       "\n",
       "             Adj Close  \n",
       "Date                    \n",
       "2022-05-09  155.610001  \n",
       "2022-05-10  154.789993  \n",
       "2022-05-11  152.610001  \n",
       "2022-05-12  151.990005  \n",
       "2022-05-13  153.619995  "
      ]
     },
     "execution_count": 9,
     "metadata": {},
     "output_type": "execute_result"
    }
   ],
   "source": [
    "PG.tail()"
   ]
  },
  {
   "cell_type": "markdown",
   "id": "50802894",
   "metadata": {},
   "source": [
    "go to yahoo finance and PG stock prices. go check the historical data and see if there's anykind of error in your data.\n",
    "\n",
    "https://finance.yahoo.com/quote/PG?p=PG&.tsrc=fin-srch"
   ]
  },
  {
   "cell_type": "markdown",
   "id": "e47eaa4d",
   "metadata": {},
   "source": [
    "## simple return\n",
    "\n",
    "(P1 - P0)/P0 = (P1/P0) - 1"
   ]
  },
  {
   "cell_type": "markdown",
   "id": "55b6c096",
   "metadata": {},
   "source": [
    "P1 = today's rpice\n",
    "P0 = yesterday's price"
   ]
  },
  {
   "cell_type": "code",
   "execution_count": 11,
   "id": "130cb67b",
   "metadata": {},
   "outputs": [
    {
     "name": "stdout",
     "output_type": "stream",
     "text": [
      "Date\n",
      "1995-01-03         NaN\n",
      "1995-01-04   -0.008015\n",
      "1995-01-05   -0.014142\n",
      "1995-01-06    0.002049\n",
      "1995-01-09   -0.004090\n",
      "                ...   \n",
      "2022-05-09   -0.002500\n",
      "2022-05-10   -0.005270\n",
      "2022-05-11   -0.014084\n",
      "2022-05-12   -0.004063\n",
      "2022-05-13    0.010724\n",
      "Name: simple_return, Length: 6891, dtype: float64\n"
     ]
    }
   ],
   "source": [
    "PG['simple_return'] = (PG['Adj Close'] / PG['Adj Close'].shift(1)) - 1  # here the shift helps us to go to the yesterday's stock price. as it shifts index by '#' number specified\n",
    "print (PG['simple_return'])"
   ]
  },
  {
   "cell_type": "code",
   "execution_count": 13,
   "id": "f264748b",
   "metadata": {},
   "outputs": [
    {
     "data": {
      "image/png": "[encoded data removed]",
      "text/plain": [
       "<Figure size 576x360 with 1 Axes>"
      ]
     },
     "metadata": {
      "needs_background": "light"
     },
     "output_type": "display_data"
    }
   ],
   "source": [
    "PG['simple_return'].plot(figsize=(8,5))  # these numbers simply determine the size of the graph\n",
    "plt.show()"
   ]
  },
  {
   "cell_type": "markdown",
   "id": "fe9fb54b",
   "metadata": {},
   "source": [
    "in fianance postive returns are important but to judge a stock perfectly we need to know about the negative returns too. it just helps to make a precise judgement."
   ]
  },
  {
   "cell_type": "code",
   "execution_count": 14,
   "id": "e85e13a3",
   "metadata": {},
   "outputs": [
    {
     "data": {
      "text/plain": [
       "0.0005302987947642824"
      ]
     },
     "execution_count": 14,
     "metadata": {},
     "output_type": "execute_result"
    }
   ],
   "source": [
    "avg_returns_d = PG['simple_return'].mean() # the term mean allows us to get the avg daily rate of return stright away. \n",
    "avg_returns_d"
   ]
  },
  {
   "cell_type": "markdown",
   "id": "e8f6b473",
   "metadata": {},
   "source": [
    "this number is much lower that 1%. and it's not very posibble to interpret it meaningfully. now let's take a look at annual avg return"
   ]
  },
  {
   "cell_type": "markdown",
   "id": "10f13135",
   "metadata": {},
   "source": [
    "### in a year there are 365 days but trading days aren't composed of saturdays, sundays and bank holidays so on avg 250 days are there"
   ]
  },
  {
   "cell_type": "code",
   "execution_count": 16,
   "id": "6241f72b",
   "metadata": {},
   "outputs": [
    {
     "data": {
      "text/plain": [
       "0.1325746986910706"
      ]
     },
     "execution_count": 16,
     "metadata": {},
     "output_type": "execute_result"
    }
   ],
   "source": [
    "avg_returns_a = PG['simple_return'].mean()*250\n",
    "avg_returns_a"
   ]
  },
  {
   "cell_type": "code",
   "execution_count": 17,
   "id": "0112413c",
   "metadata": {},
   "outputs": [],
   "source": [
    "## now we can make it better by rounding it and making it in a percentage string"
   ]
  },
  {
   "cell_type": "code",
   "execution_count": 22,
   "id": "0107f7ed",
   "metadata": {},
   "outputs": [
    {
     "name": "stdout",
     "output_type": "stream",
     "text": [
      "13.257%\n"
     ]
    }
   ],
   "source": [
    "print (str(round(avg_returns_a,5)*100) + '%')  # here we made it a string with 5 digits and % sign at the end"
   ]
  },
  {
   "cell_type": "code",
   "execution_count": null,
   "id": "221a979e",
   "metadata": {},
   "outputs": [],
   "source": []
  },
  {
   "cell_type": "code",
   "execution_count": null,
   "id": "5c2798a8",
   "metadata": {},
   "outputs": [],
   "source": []
  },
  {
   "cell_type": "markdown",
   "id": "ce59b425",
   "metadata": {},
   "source": [
    "# logarithmic rate of return\n",
    "\n",
    "we use numpy here as it offers the possibility of vectorized computation.\n",
    "i.e. the ability to organize several kinds of data processing taks as array expression.\n",
    "\n",
    "log returns = ln(Pt/P(t-1))"
   ]
  },
  {
   "cell_type": "code",
   "execution_count": 23,
   "id": "3dc7fcd1",
   "metadata": {},
   "outputs": [
    {
     "data": {
      "text/html": [
       "<div>\n",
       "<style scoped>\n",
       "    .dataframe tbody tr th:only-of-type {\n",
       "        vertical-align: middle;\n",
       "    }\n",
       "\n",
       "    .dataframe tbody tr th {\n",
       "        vertical-align: top;\n",
       "    }\n",
       "\n",
       "    .dataframe thead th {\n",
       "        text-align: right;\n",
       "    }\n",
       "</style>\n",
       "<table border=\"1\" class=\"dataframe\">\n",
       "  <thead>\n",
       "    <tr style=\"text-align: right;\">\n",
       "      <th></th>\n",
       "      <th>High</th>\n",
       "      <th>Low</th>\n",
       "      <th>Open</th>\n",
       "      <th>Close</th>\n",
       "      <th>Volume</th>\n",
       "      <th>Adj Close</th>\n",
       "      <th>simple_return</th>\n",
       "    </tr>\n",
       "    <tr>\n",
       "      <th>Date</th>\n",
       "      <th></th>\n",
       "      <th></th>\n",
       "      <th></th>\n",
       "      <th></th>\n",
       "      <th></th>\n",
       "      <th></th>\n",
       "      <th></th>\n",
       "    </tr>\n",
       "  </thead>\n",
       "  <tbody>\n",
       "    <tr>\n",
       "      <th>1995-01-03</th>\n",
       "      <td>15.62500</td>\n",
       "      <td>15.43750</td>\n",
       "      <td>15.46875</td>\n",
       "      <td>15.59375</td>\n",
       "      <td>3318400.0</td>\n",
       "      <td>7.926647</td>\n",
       "      <td>NaN</td>\n",
       "    </tr>\n",
       "    <tr>\n",
       "      <th>1995-01-04</th>\n",
       "      <td>15.65625</td>\n",
       "      <td>15.31250</td>\n",
       "      <td>15.53125</td>\n",
       "      <td>15.46875</td>\n",
       "      <td>2218800.0</td>\n",
       "      <td>7.863113</td>\n",
       "      <td>-0.008015</td>\n",
       "    </tr>\n",
       "    <tr>\n",
       "      <th>1995-01-05</th>\n",
       "      <td>15.43750</td>\n",
       "      <td>15.21875</td>\n",
       "      <td>15.37500</td>\n",
       "      <td>15.25000</td>\n",
       "      <td>2319600.0</td>\n",
       "      <td>7.751913</td>\n",
       "      <td>-0.014142</td>\n",
       "    </tr>\n",
       "    <tr>\n",
       "      <th>1995-01-06</th>\n",
       "      <td>15.40625</td>\n",
       "      <td>15.15625</td>\n",
       "      <td>15.15625</td>\n",
       "      <td>15.28125</td>\n",
       "      <td>3438000.0</td>\n",
       "      <td>7.767798</td>\n",
       "      <td>0.002049</td>\n",
       "    </tr>\n",
       "    <tr>\n",
       "      <th>1995-01-09</th>\n",
       "      <td>15.40625</td>\n",
       "      <td>15.18750</td>\n",
       "      <td>15.34375</td>\n",
       "      <td>15.21875</td>\n",
       "      <td>1795200.0</td>\n",
       "      <td>7.736029</td>\n",
       "      <td>-0.004090</td>\n",
       "    </tr>\n",
       "  </tbody>\n",
       "</table>\n",
       "</div>"
      ],
      "text/plain": [
       "                High       Low      Open     Close     Volume  Adj Close  \\\n",
       "Date                                                                       \n",
       "1995-01-03  15.62500  15.43750  15.46875  15.59375  3318400.0   7.926647   \n",
       "1995-01-04  15.65625  15.31250  15.53125  15.46875  2218800.0   7.863113   \n",
       "1995-01-05  15.43750  15.21875  15.37500  15.25000  2319600.0   7.751913   \n",
       "1995-01-06  15.40625  15.15625  15.15625  15.28125  3438000.0   7.767798   \n",
       "1995-01-09  15.40625  15.18750  15.34375  15.21875  1795200.0   7.736029   \n",
       "\n",
       "            simple_return  \n",
       "Date                       \n",
       "1995-01-03            NaN  \n",
       "1995-01-04      -0.008015  \n",
       "1995-01-05      -0.014142  \n",
       "1995-01-06       0.002049  \n",
       "1995-01-09      -0.004090  "
      ]
     },
     "execution_count": 23,
     "metadata": {},
     "output_type": "execute_result"
    }
   ],
   "source": [
    "PG.head()"
   ]
  },
  {
   "cell_type": "code",
   "execution_count": 24,
   "id": "e8186980",
   "metadata": {},
   "outputs": [
    {
     "name": "stdout",
     "output_type": "stream",
     "text": [
      "Date\n",
      "1995-01-03         NaN\n",
      "1995-01-04   -0.008048\n",
      "1995-01-05   -0.014243\n",
      "1995-01-06    0.002047\n",
      "1995-01-09   -0.004098\n",
      "                ...   \n",
      "2022-05-09   -0.002503\n",
      "2022-05-10   -0.005284\n",
      "2022-05-11   -0.014184\n",
      "2022-05-12   -0.004071\n",
      "2022-05-13    0.010667\n",
      "Name: log_returns, Length: 6891, dtype: float64\n"
     ]
    }
   ],
   "source": [
    "PG['log_returns'] = np.log(PG['Adj Close']/ PG['Adj Close'].shift(1))\n",
    "print (PG['log_returns'])"
   ]
  },
  {
   "cell_type": "code",
   "execution_count": 25,
   "id": "7e6874cc",
   "metadata": {},
   "outputs": [
    {
     "data": {
      "image/png": "[encoded data removed]",
      "text/plain": [
       "<Figure size 576x360 with 1 Axes>"
      ]
     },
     "metadata": {
      "needs_background": "light"
     },
     "output_type": "display_data"
    }
   ],
   "source": [
    "PG['log_returns'].plot(figsize=(8,5))\n",
    "plt.show()"
   ]
  },
  {
   "cell_type": "code",
   "execution_count": 27,
   "id": "9e9c4012",
   "metadata": {},
   "outputs": [
    {
     "data": {
      "text/plain": [
       "0.0004302252313164331"
      ]
     },
     "execution_count": 27,
     "metadata": {},
     "output_type": "execute_result"
    }
   ],
   "source": [
    "log_returns_d = PG['log_returns'].mean()\n",
    "log_returns_d"
   ]
  },
  {
   "cell_type": "code",
   "execution_count": 30,
   "id": "dbf708ec",
   "metadata": {},
   "outputs": [
    {
     "data": {
      "text/plain": [
       "0.10755630782910827"
      ]
     },
     "execution_count": 30,
     "metadata": {},
     "output_type": "execute_result"
    }
   ],
   "source": [
    "log_returns_a = PG['log_returns'].mean() * 250\n",
    "log_returns_a"
   ]
  },
  {
   "cell_type": "code",
   "execution_count": 36,
   "id": "462541e1",
   "metadata": {},
   "outputs": [
    {
     "name": "stdout",
     "output_type": "stream",
     "text": [
      "10.756%\n"
     ]
    }
   ],
   "source": [
    "print (str(round(log_returns_a,5)*100) + '%') "
   ]
  },
  {
   "cell_type": "code",
   "execution_count": 37,
   "id": "bd408b44",
   "metadata": {},
   "outputs": [],
   "source": [
    "## we can see the log returns are significantly smaller than the simple returns"
   ]
  },
  {
   "cell_type": "code",
   "execution_count": null,
   "id": "e41d0df5",
   "metadata": {},
   "outputs": [],
   "source": []
  },
  {
   "cell_type": "code",
   "execution_count": null,
   "id": "2394e9a2",
   "metadata": {},
   "outputs": [],
   "source": []
  },
  {
   "cell_type": "code",
   "execution_count": null,
   "id": "0eeca284",
   "metadata": {},
   "outputs": [],
   "source": []
  },
  {
   "cell_type": "markdown",
   "id": "e1898d52",
   "metadata": {},
   "source": [
    "# portfolio return"
   ]
  },
  {
   "cell_type": "markdown",
   "id": "dbcce663",
   "metadata": {},
   "source": [
    "a portfolio is a collection of several stocks. this is the most common thing about investyors to own several stocks. so how to calculate rate of returns of a portfolio.\n",
    "\n",
    "every investor tries to select and add stocks that will optimize the overall rate of return of his portfolio.\n",
    "\n"
   ]
  },
  {
   "cell_type": "markdown",
   "id": "46619f0e",
   "metadata": {},
   "source": [
    "## rate of return of a portfolio = rate of return for a security * weight in portfolio"
   ]
  },
  {
   "cell_type": "code",
   "execution_count": 5,
   "id": "68b3ef66",
   "metadata": {},
   "outputs": [],
   "source": [
    "import numpy as np\n",
    "import pandas as pd\n",
    "from pandas_datareader import data as wb\n",
    "import matplotlib as plt"
   ]
  },
  {
   "cell_type": "code",
   "execution_count": 6,
   "id": "8c05727a",
   "metadata": {},
   "outputs": [],
   "source": [
    "tickers = ['PG','MSFT','F','GE']  # stocks of proctor and gamble, microsoft, ford and general electrics\n",
    "mydata = pd.DataFrame()\n",
    "for t in tickers:\n",
    "    mydata[t] = wb.DataReader(t,data_source = 'yahoo', start = '1995-1-1')['Adj Close']\n"
   ]
  },
  {
   "cell_type": "code",
   "execution_count": 41,
   "id": "40fdc851",
   "metadata": {},
   "outputs": [
    {
     "name": "stdout",
     "output_type": "stream",
     "text": [
      "<class 'pandas.core.frame.DataFrame'>\n",
      "DatetimeIndex: 6891 entries, 1995-01-03 to 2022-05-13\n",
      "Data columns (total 4 columns):\n",
      " #   Column  Non-Null Count  Dtype  \n",
      "---  ------  --------------  -----  \n",
      " 0   PG      6891 non-null   float64\n",
      " 1   MSFT    6891 non-null   float64\n",
      " 2   F       6891 non-null   float64\n",
      " 3   GE      6891 non-null   float64\n",
      "dtypes: float64(4)\n",
      "memory usage: 269.2 KB\n"
     ]
    }
   ],
   "source": [
    "mydata.info()"
   ]
  },
  {
   "cell_type": "code",
   "execution_count": 42,
   "id": "33004d78",
   "metadata": {},
   "outputs": [
    {
     "data": {
      "text/html": [
       "<div>\n",
       "<style scoped>\n",
       "    .dataframe tbody tr th:only-of-type {\n",
       "        vertical-align: middle;\n",
       "    }\n",
       "\n",
       "    .dataframe tbody tr th {\n",
       "        vertical-align: top;\n",
       "    }\n",
       "\n",
       "    .dataframe thead th {\n",
       "        text-align: right;\n",
       "    }\n",
       "</style>\n",
       "<table border=\"1\" class=\"dataframe\">\n",
       "  <thead>\n",
       "    <tr style=\"text-align: right;\">\n",
       "      <th></th>\n",
       "      <th>PG</th>\n",
       "      <th>MSFT</th>\n",
       "      <th>F</th>\n",
       "      <th>GE</th>\n",
       "    </tr>\n",
       "    <tr>\n",
       "      <th>Date</th>\n",
       "      <th></th>\n",
       "      <th></th>\n",
       "      <th></th>\n",
       "      <th></th>\n",
       "    </tr>\n",
       "  </thead>\n",
       "  <tbody>\n",
       "    <tr>\n",
       "      <th>1995-01-03</th>\n",
       "      <td>7.926646</td>\n",
       "      <td>2.369954</td>\n",
       "      <td>4.307288</td>\n",
       "      <td>32.847813</td>\n",
       "    </tr>\n",
       "    <tr>\n",
       "      <th>1995-01-04</th>\n",
       "      <td>7.863114</td>\n",
       "      <td>2.387182</td>\n",
       "      <td>4.423178</td>\n",
       "      <td>32.847813</td>\n",
       "    </tr>\n",
       "    <tr>\n",
       "      <th>1995-01-05</th>\n",
       "      <td>7.751913</td>\n",
       "      <td>2.347805</td>\n",
       "      <td>4.384546</td>\n",
       "      <td>32.928314</td>\n",
       "    </tr>\n",
       "    <tr>\n",
       "      <th>1995-01-06</th>\n",
       "      <td>7.767798</td>\n",
       "      <td>2.387182</td>\n",
       "      <td>4.384546</td>\n",
       "      <td>32.767296</td>\n",
       "    </tr>\n",
       "    <tr>\n",
       "      <th>1995-01-09</th>\n",
       "      <td>7.736025</td>\n",
       "      <td>2.372415</td>\n",
       "      <td>4.461808</td>\n",
       "      <td>32.445274</td>\n",
       "    </tr>\n",
       "  </tbody>\n",
       "</table>\n",
       "</div>"
      ],
      "text/plain": [
       "                  PG      MSFT         F         GE\n",
       "Date                                               \n",
       "1995-01-03  7.926646  2.369954  4.307288  32.847813\n",
       "1995-01-04  7.863114  2.387182  4.423178  32.847813\n",
       "1995-01-05  7.751913  2.347805  4.384546  32.928314\n",
       "1995-01-06  7.767798  2.387182  4.384546  32.767296\n",
       "1995-01-09  7.736025  2.372415  4.461808  32.445274"
      ]
     },
     "execution_count": 42,
     "metadata": {},
     "output_type": "execute_result"
    }
   ],
   "source": [
    "mydata.head()"
   ]
  },
  {
   "cell_type": "code",
   "execution_count": 45,
   "id": "25efb23d",
   "metadata": {
    "scrolled": true
   },
   "outputs": [
    {
     "data": {
      "text/html": [
       "<div>\n",
       "<style scoped>\n",
       "    .dataframe tbody tr th:only-of-type {\n",
       "        vertical-align: middle;\n",
       "    }\n",
       "\n",
       "    .dataframe tbody tr th {\n",
       "        vertical-align: top;\n",
       "    }\n",
       "\n",
       "    .dataframe thead th {\n",
       "        text-align: right;\n",
       "    }\n",
       "</style>\n",
       "<table border=\"1\" class=\"dataframe\">\n",
       "  <thead>\n",
       "    <tr style=\"text-align: right;\">\n",
       "      <th></th>\n",
       "      <th>PG</th>\n",
       "      <th>MSFT</th>\n",
       "      <th>F</th>\n",
       "      <th>GE</th>\n",
       "    </tr>\n",
       "    <tr>\n",
       "      <th>Date</th>\n",
       "      <th></th>\n",
       "      <th></th>\n",
       "      <th></th>\n",
       "      <th></th>\n",
       "    </tr>\n",
       "  </thead>\n",
       "  <tbody>\n",
       "    <tr>\n",
       "      <th>2022-05-09</th>\n",
       "      <td>155.610001</td>\n",
       "      <td>264.579987</td>\n",
       "      <td>13.37</td>\n",
       "      <td>72.970001</td>\n",
       "    </tr>\n",
       "    <tr>\n",
       "      <th>2022-05-10</th>\n",
       "      <td>154.789993</td>\n",
       "      <td>269.500000</td>\n",
       "      <td>13.35</td>\n",
       "      <td>73.309998</td>\n",
       "    </tr>\n",
       "    <tr>\n",
       "      <th>2022-05-11</th>\n",
       "      <td>152.610001</td>\n",
       "      <td>260.549988</td>\n",
       "      <td>12.83</td>\n",
       "      <td>72.440002</td>\n",
       "    </tr>\n",
       "    <tr>\n",
       "      <th>2022-05-12</th>\n",
       "      <td>151.990005</td>\n",
       "      <td>255.350006</td>\n",
       "      <td>12.44</td>\n",
       "      <td>73.279999</td>\n",
       "    </tr>\n",
       "    <tr>\n",
       "      <th>2022-05-13</th>\n",
       "      <td>153.619995</td>\n",
       "      <td>261.119995</td>\n",
       "      <td>13.50</td>\n",
       "      <td>75.050003</td>\n",
       "    </tr>\n",
       "  </tbody>\n",
       "</table>\n",
       "</div>"
      ],
      "text/plain": [
       "                    PG        MSFT      F         GE\n",
       "Date                                                \n",
       "2022-05-09  155.610001  264.579987  13.37  72.970001\n",
       "2022-05-10  154.789993  269.500000  13.35  73.309998\n",
       "2022-05-11  152.610001  260.549988  12.83  72.440002\n",
       "2022-05-12  151.990005  255.350006  12.44  73.279999\n",
       "2022-05-13  153.619995  261.119995  13.50  75.050003"
      ]
     },
     "execution_count": 45,
     "metadata": {},
     "output_type": "execute_result"
    }
   ],
   "source": [
    "mydata.tail()"
   ]
  },
  {
   "cell_type": "markdown",
   "id": "fd3d4b94",
   "metadata": {},
   "source": [
    "# normalize the data to 100\n",
    "\n",
    "(Pt/P0) * 100"
   ]
  },
  {
   "cell_type": "code",
   "execution_count": 44,
   "id": "7846a29a",
   "metadata": {},
   "outputs": [
    {
     "data": {
      "text/plain": [
       "PG       7.926646\n",
       "MSFT     2.369954\n",
       "F        4.307288\n",
       "GE      32.847813\n",
       "Name: 1995-01-03 00:00:00, dtype: float64"
      ]
     },
     "execution_count": 44,
     "metadata": {},
     "output_type": "execute_result"
    }
   ],
   "source": [
    "mydata.iloc[0]   # iloc[#] extracts the data from the specified column . here 0(first)"
   ]
  },
  {
   "cell_type": "code",
   "execution_count": 48,
   "id": "bcfa47ff",
   "metadata": {},
   "outputs": [
    {
     "data": {
      "image/png": "[encoded data removed]",
      "text/plain": [
       "<Figure size 1080x432 with 1 Axes>"
      ]
     },
     "metadata": {
      "needs_background": "light"
     },
     "output_type": "display_data"
    }
   ],
   "source": [
    "(mydata/mydata.iloc[0]*100).plot(figsize=(15,6));\n"
   ]
  },
  {
   "cell_type": "code",
   "execution_count": 49,
   "id": "88ba2710",
   "metadata": {},
   "outputs": [
    {
     "data": {
      "text/plain": [
       "<AxesSubplot:xlabel='Date'>"
      ]
     },
     "execution_count": 49,
     "metadata": {},
     "output_type": "execute_result"
    },
    {
     "data": {
      "image/png": "[encoded data removed]",
      "text/plain": [
       "<Figure size 1080x432 with 1 Axes>"
      ]
     },
     "metadata": {
      "needs_background": "light"
     },
     "output_type": "display_data"
    }
   ],
   "source": [
    "mydata.plot(figsize=(15,6))"
   ]
  },
  {
   "cell_type": "code",
   "execution_count": 51,
   "id": "e78d2cc8",
   "metadata": {},
   "outputs": [
    {
     "data": {
      "text/plain": [
       "PG       7.926646\n",
       "MSFT     2.369954\n",
       "F        4.307288\n",
       "GE      32.847813\n",
       "Name: 1995-01-03 00:00:00, dtype: float64"
      ]
     },
     "execution_count": 51,
     "metadata": {},
     "output_type": "execute_result"
    }
   ],
   "source": [
    "mydata.loc['1995-01-03']"
   ]
  },
  {
   "cell_type": "code",
   "execution_count": 52,
   "id": "f3e87cbe",
   "metadata": {},
   "outputs": [
    {
     "data": {
      "text/plain": [
       "PG       7.926646\n",
       "MSFT     2.369954\n",
       "F        4.307288\n",
       "GE      32.847813\n",
       "Name: 1995-01-03 00:00:00, dtype: float64"
      ]
     },
     "execution_count": 52,
     "metadata": {},
     "output_type": "execute_result"
    }
   ],
   "source": [
    "mydata.iloc[0]"
   ]
  },
  {
   "cell_type": "code",
   "execution_count": 1,
   "id": "8a2c3241",
   "metadata": {},
   "outputs": [],
   "source": [
    "## both these approaches lead to the same outcome i.e. loc['1995-1-1'] and lod[0] are the same things."
   ]
  },
  {
   "cell_type": "markdown",
   "id": "0a968858",
   "metadata": {},
   "source": [
    "these kinds of analysis can help us determine which stock performed better historically and help us determine the future."
   ]
  },
  {
   "cell_type": "code",
   "execution_count": null,
   "id": "ae0c3277",
   "metadata": {},
   "outputs": [],
   "source": []
  },
  {
   "cell_type": "markdown",
   "id": "06939368",
   "metadata": {},
   "source": [
    "# calculating the return of a portfolio of securities\n",
    "\n",
    "we use weights in an numpy array."
   ]
  },
  {
   "cell_type": "code",
   "execution_count": 7,
   "id": "d3b3e2dd",
   "metadata": {},
   "outputs": [],
   "source": [
    "returns = (mydata / mydata.shift(1)) - 1"
   ]
  },
  {
   "cell_type": "code",
   "execution_count": 8,
   "id": "4530f662",
   "metadata": {},
   "outputs": [
    {
     "data": {
      "text/html": [
       "<div>\n",
       "<style scoped>\n",
       "    .dataframe tbody tr th:only-of-type {\n",
       "        vertical-align: middle;\n",
       "    }\n",
       "\n",
       "    .dataframe tbody tr th {\n",
       "        vertical-align: top;\n",
       "    }\n",
       "\n",
       "    .dataframe thead th {\n",
       "        text-align: right;\n",
       "    }\n",
       "</style>\n",
       "<table border=\"1\" class=\"dataframe\">\n",
       "  <thead>\n",
       "    <tr style=\"text-align: right;\">\n",
       "      <th></th>\n",
       "      <th>PG</th>\n",
       "      <th>MSFT</th>\n",
       "      <th>F</th>\n",
       "      <th>GE</th>\n",
       "    </tr>\n",
       "    <tr>\n",
       "      <th>Date</th>\n",
       "      <th></th>\n",
       "      <th></th>\n",
       "      <th></th>\n",
       "      <th></th>\n",
       "    </tr>\n",
       "  </thead>\n",
       "  <tbody>\n",
       "    <tr>\n",
       "      <th>1995-01-03</th>\n",
       "      <td>NaN</td>\n",
       "      <td>NaN</td>\n",
       "      <td>NaN</td>\n",
       "      <td>NaN</td>\n",
       "    </tr>\n",
       "    <tr>\n",
       "      <th>1995-01-04</th>\n",
       "      <td>-0.008015</td>\n",
       "      <td>0.007269</td>\n",
       "      <td>0.026906</td>\n",
       "      <td>0.000000</td>\n",
       "    </tr>\n",
       "    <tr>\n",
       "      <th>1995-01-05</th>\n",
       "      <td>-0.014142</td>\n",
       "      <td>-0.016495</td>\n",
       "      <td>-0.008734</td>\n",
       "      <td>0.002451</td>\n",
       "    </tr>\n",
       "    <tr>\n",
       "      <th>1995-01-06</th>\n",
       "      <td>0.002049</td>\n",
       "      <td>0.016771</td>\n",
       "      <td>0.000000</td>\n",
       "      <td>-0.004890</td>\n",
       "    </tr>\n",
       "    <tr>\n",
       "      <th>1995-01-09</th>\n",
       "      <td>-0.004090</td>\n",
       "      <td>-0.006185</td>\n",
       "      <td>0.017621</td>\n",
       "      <td>-0.009828</td>\n",
       "    </tr>\n",
       "  </tbody>\n",
       "</table>\n",
       "</div>"
      ],
      "text/plain": [
       "                  PG      MSFT         F        GE\n",
       "Date                                              \n",
       "1995-01-03       NaN       NaN       NaN       NaN\n",
       "1995-01-04 -0.008015  0.007269  0.026906  0.000000\n",
       "1995-01-05 -0.014142 -0.016495 -0.008734  0.002451\n",
       "1995-01-06  0.002049  0.016771  0.000000 -0.004890\n",
       "1995-01-09 -0.004090 -0.006185  0.017621 -0.009828"
      ]
     },
     "execution_count": 8,
     "metadata": {},
     "output_type": "execute_result"
    }
   ],
   "source": [
    "returns.head()"
   ]
  },
  {
   "cell_type": "code",
   "execution_count": 9,
   "id": "07577629",
   "metadata": {},
   "outputs": [
    {
     "data": {
      "text/html": [
       "<div>\n",
       "<style scoped>\n",
       "    .dataframe tbody tr th:only-of-type {\n",
       "        vertical-align: middle;\n",
       "    }\n",
       "\n",
       "    .dataframe tbody tr th {\n",
       "        vertical-align: top;\n",
       "    }\n",
       "\n",
       "    .dataframe thead th {\n",
       "        text-align: right;\n",
       "    }\n",
       "</style>\n",
       "<table border=\"1\" class=\"dataframe\">\n",
       "  <thead>\n",
       "    <tr style=\"text-align: right;\">\n",
       "      <th></th>\n",
       "      <th>PG</th>\n",
       "      <th>MSFT</th>\n",
       "      <th>F</th>\n",
       "      <th>GE</th>\n",
       "    </tr>\n",
       "    <tr>\n",
       "      <th>Date</th>\n",
       "      <th></th>\n",
       "      <th></th>\n",
       "      <th></th>\n",
       "      <th></th>\n",
       "    </tr>\n",
       "  </thead>\n",
       "  <tbody>\n",
       "    <tr>\n",
       "      <th>2022-05-09</th>\n",
       "      <td>-0.002500</td>\n",
       "      <td>-0.036945</td>\n",
       "      <td>-0.059113</td>\n",
       "      <td>-0.067238</td>\n",
       "    </tr>\n",
       "    <tr>\n",
       "      <th>2022-05-10</th>\n",
       "      <td>-0.005270</td>\n",
       "      <td>0.018596</td>\n",
       "      <td>-0.001496</td>\n",
       "      <td>0.004659</td>\n",
       "    </tr>\n",
       "    <tr>\n",
       "      <th>2022-05-11</th>\n",
       "      <td>-0.014084</td>\n",
       "      <td>-0.033210</td>\n",
       "      <td>-0.038951</td>\n",
       "      <td>-0.011867</td>\n",
       "    </tr>\n",
       "    <tr>\n",
       "      <th>2022-05-12</th>\n",
       "      <td>-0.004063</td>\n",
       "      <td>-0.019958</td>\n",
       "      <td>-0.030398</td>\n",
       "      <td>0.011596</td>\n",
       "    </tr>\n",
       "    <tr>\n",
       "      <th>2022-05-13</th>\n",
       "      <td>0.010724</td>\n",
       "      <td>0.022596</td>\n",
       "      <td>0.085209</td>\n",
       "      <td>0.024154</td>\n",
       "    </tr>\n",
       "  </tbody>\n",
       "</table>\n",
       "</div>"
      ],
      "text/plain": [
       "                  PG      MSFT         F        GE\n",
       "Date                                              \n",
       "2022-05-09 -0.002500 -0.036945 -0.059113 -0.067238\n",
       "2022-05-10 -0.005270  0.018596 -0.001496  0.004659\n",
       "2022-05-11 -0.014084 -0.033210 -0.038951 -0.011867\n",
       "2022-05-12 -0.004063 -0.019958 -0.030398  0.011596\n",
       "2022-05-13  0.010724  0.022596  0.085209  0.024154"
      ]
     },
     "execution_count": 9,
     "metadata": {},
     "output_type": "execute_result"
    }
   ],
   "source": [
    "returns.tail()"
   ]
  },
  {
   "cell_type": "code",
   "execution_count": 11,
   "id": "461f6f3c",
   "metadata": {},
   "outputs": [],
   "source": [
    "weights = np.array([0.25,0.25,0.25,0.25])  # a portfolio's weight must always sum upto 1"
   ]
  },
  {
   "cell_type": "code",
   "execution_count": 13,
   "id": "52792688",
   "metadata": {},
   "outputs": [
    {
     "data": {
      "text/plain": [
       "array([        nan,  0.0065399 , -0.00922977, ..., -0.02452798,\n",
       "       -0.01070553,  0.03567094])"
      ]
     },
     "execution_count": 13,
     "metadata": {},
     "output_type": "execute_result"
    }
   ],
   "source": [
    "np.dot(returns , weights)  # dot product is the multiplication of vector or matrixs"
   ]
  },
  {
   "cell_type": "code",
   "execution_count": 15,
   "id": "d1ca1476",
   "metadata": {},
   "outputs": [
    {
     "data": {
      "text/plain": [
       "PG      0.132575\n",
       "MSFT    0.219774\n",
       "F       0.122018\n",
       "GE      0.081582\n",
       "dtype: float64"
      ]
     },
     "execution_count": 15,
     "metadata": {},
     "output_type": "execute_result"
    }
   ],
   "source": [
    "## first we need the avg return\n",
    "annual_returns = returns.mean() * 250\n",
    "annual_returns"
   ]
  },
  {
   "cell_type": "code",
   "execution_count": 16,
   "id": "6b9875a3",
   "metadata": {},
   "outputs": [
    {
     "data": {
      "text/plain": [
       "0.13898707886122164"
      ]
     },
     "execution_count": 16,
     "metadata": {},
     "output_type": "execute_result"
    }
   ],
   "source": [
    "np.dot(annual_returns , weights)"
   ]
  },
  {
   "cell_type": "code",
   "execution_count": 27,
   "id": "8cca7307",
   "metadata": {},
   "outputs": [
    {
     "name": "stdout",
     "output_type": "stream",
     "text": [
      "13.899000000000001%\n"
     ]
    }
   ],
   "source": [
    "pfolio_1 = str(round(np.dot(annual_returns, weights), 5)*100) + '%'\n",
    "print (pfolio_1)"
   ]
  },
  {
   "cell_type": "code",
   "execution_count": 23,
   "id": "13a6dae8",
   "metadata": {},
   "outputs": [],
   "source": [
    "# now we can compare two portfolio's by using new weights"
   ]
  },
  {
   "cell_type": "code",
   "execution_count": 24,
   "id": "cb496323",
   "metadata": {},
   "outputs": [],
   "source": [
    "weights_2 = np.array([0.4,0.4,0.15,0.05])"
   ]
  },
  {
   "cell_type": "code",
   "execution_count": 25,
   "id": "03345c77",
   "metadata": {},
   "outputs": [
    {
     "name": "stdout",
     "output_type": "stream",
     "text": [
      "13.899000000000001%\n",
      "16.332%\n"
     ]
    }
   ],
   "source": [
    "pfolio_2 = str(round(np.dot(annual_returns, weights_2), 5)*100) + '%'\n",
    "print (pfolio_1)\n",
    "print (pfolio_2)"
   ]
  },
  {
   "cell_type": "code",
   "execution_count": null,
   "id": "46ba24b6",
   "metadata": {},
   "outputs": [],
   "source": []
  },
  {
   "cell_type": "code",
   "execution_count": null,
   "id": "98ac72fc",
   "metadata": {},
   "outputs": [],
   "source": []
  },
  {
   "cell_type": "markdown",
   "id": "0d6b9556",
   "metadata": {},
   "source": [
    "## market indices"
   ]
  },
  {
   "cell_type": "markdown",
   "id": "c5d3cb0f",
   "metadata": {},
   "source": [
    "the market index provides an idea of how a stock market is performing \n",
    "\n",
    "there are a lot of STOCK MARKETS like S&P, NASDAQ .\n",
    "S&P comprises of the top 500 companies in the us. it's diverse and market cap weighted."
   ]
  },
  {
   "cell_type": "markdown",
   "id": "4294d9c2",
   "metadata": {},
   "source": [
    "\n",
    "\n",
    "\n",
    "\n",
    "how to use it :\n",
    "stock indices are an excellent comparator to understand how your own stocks are performing.\n",
    "\n",
    "it also gives an idea of type of return we can expect if we invest in an well diversified portfolio.\n"
   ]
  },
  {
   "cell_type": "code",
   "execution_count": 28,
   "id": "58498a73",
   "metadata": {},
   "outputs": [],
   "source": [
    "import numpy as np\n",
    "import pandas as pd\n",
    "from pandas_datareader import data as wb\n",
    "import matplotlib as plt"
   ]
  },
  {
   "cell_type": "code",
   "execution_count": 33,
   "id": "dc59a901",
   "metadata": {},
   "outputs": [],
   "source": [
    "tickers = ['^GSPC', '^IXIC', '^GDAXI']  #acronyms of different markets\n",
    "\n",
    "ind_data = pd.DataFrame()\n",
    "\n",
    "for t in tickers:\n",
    "    ind_data[t] = wb.DataReader(t, data_source = 'yahoo', start = '2005-1-1')['Adj Close']"
   ]
  },
  {
   "cell_type": "code",
   "execution_count": 34,
   "id": "70e745ff",
   "metadata": {},
   "outputs": [
    {
     "data": {
      "text/html": [
       "<div>\n",
       "<style scoped>\n",
       "    .dataframe tbody tr th:only-of-type {\n",
       "        vertical-align: middle;\n",
       "    }\n",
       "\n",
       "    .dataframe tbody tr th {\n",
       "        vertical-align: top;\n",
       "    }\n",
       "\n",
       "    .dataframe thead th {\n",
       "        text-align: right;\n",
       "    }\n",
       "</style>\n",
       "<table border=\"1\" class=\"dataframe\">\n",
       "  <thead>\n",
       "    <tr style=\"text-align: right;\">\n",
       "      <th></th>\n",
       "      <th>^GSPC</th>\n",
       "      <th>^IXIC</th>\n",
       "      <th>^GDAXI</th>\n",
       "    </tr>\n",
       "    <tr>\n",
       "      <th>Date</th>\n",
       "      <th></th>\n",
       "      <th></th>\n",
       "      <th></th>\n",
       "    </tr>\n",
       "  </thead>\n",
       "  <tbody>\n",
       "    <tr>\n",
       "      <th>2004-12-31</th>\n",
       "      <td>1211.920044</td>\n",
       "      <td>2175.439941</td>\n",
       "      <td>NaN</td>\n",
       "    </tr>\n",
       "    <tr>\n",
       "      <th>2005-01-03</th>\n",
       "      <td>1202.079956</td>\n",
       "      <td>2152.149902</td>\n",
       "      <td>4291.529785</td>\n",
       "    </tr>\n",
       "    <tr>\n",
       "      <th>2005-01-04</th>\n",
       "      <td>1188.050049</td>\n",
       "      <td>2107.860107</td>\n",
       "      <td>4290.500000</td>\n",
       "    </tr>\n",
       "    <tr>\n",
       "      <th>2005-01-05</th>\n",
       "      <td>1183.739990</td>\n",
       "      <td>2091.239990</td>\n",
       "      <td>4258.240234</td>\n",
       "    </tr>\n",
       "    <tr>\n",
       "      <th>2005-01-06</th>\n",
       "      <td>1187.890015</td>\n",
       "      <td>2090.000000</td>\n",
       "      <td>4300.939941</td>\n",
       "    </tr>\n",
       "  </tbody>\n",
       "</table>\n",
       "</div>"
      ],
      "text/plain": [
       "                  ^GSPC        ^IXIC       ^GDAXI\n",
       "Date                                             \n",
       "2004-12-31  1211.920044  2175.439941          NaN\n",
       "2005-01-03  1202.079956  2152.149902  4291.529785\n",
       "2005-01-04  1188.050049  2107.860107  4290.500000\n",
       "2005-01-05  1183.739990  2091.239990  4258.240234\n",
       "2005-01-06  1187.890015  2090.000000  4300.939941"
      ]
     },
     "execution_count": 34,
     "metadata": {},
     "output_type": "execute_result"
    }
   ],
   "source": [
    "ind_data.head()"
   ]
  },
  {
   "cell_type": "code",
   "execution_count": 35,
   "id": "8fce40d2",
   "metadata": {},
   "outputs": [
    {
     "data": {
      "text/html": [
       "<div>\n",
       "<style scoped>\n",
       "    .dataframe tbody tr th:only-of-type {\n",
       "        vertical-align: middle;\n",
       "    }\n",
       "\n",
       "    .dataframe tbody tr th {\n",
       "        vertical-align: top;\n",
       "    }\n",
       "\n",
       "    .dataframe thead th {\n",
       "        text-align: right;\n",
       "    }\n",
       "</style>\n",
       "<table border=\"1\" class=\"dataframe\">\n",
       "  <thead>\n",
       "    <tr style=\"text-align: right;\">\n",
       "      <th></th>\n",
       "      <th>^GSPC</th>\n",
       "      <th>^IXIC</th>\n",
       "      <th>^GDAXI</th>\n",
       "    </tr>\n",
       "    <tr>\n",
       "      <th>Date</th>\n",
       "      <th></th>\n",
       "      <th></th>\n",
       "      <th></th>\n",
       "    </tr>\n",
       "  </thead>\n",
       "  <tbody>\n",
       "    <tr>\n",
       "      <th>2022-05-09</th>\n",
       "      <td>3991.239990</td>\n",
       "      <td>11623.250000</td>\n",
       "      <td>13380.669922</td>\n",
       "    </tr>\n",
       "    <tr>\n",
       "      <th>2022-05-10</th>\n",
       "      <td>4001.050049</td>\n",
       "      <td>11737.669922</td>\n",
       "      <td>13534.740234</td>\n",
       "    </tr>\n",
       "    <tr>\n",
       "      <th>2022-05-11</th>\n",
       "      <td>3935.179932</td>\n",
       "      <td>11364.240234</td>\n",
       "      <td>13828.639648</td>\n",
       "    </tr>\n",
       "    <tr>\n",
       "      <th>2022-05-12</th>\n",
       "      <td>3930.080078</td>\n",
       "      <td>11370.959961</td>\n",
       "      <td>13739.639648</td>\n",
       "    </tr>\n",
       "    <tr>\n",
       "      <th>2022-05-13</th>\n",
       "      <td>4023.889893</td>\n",
       "      <td>11805.000000</td>\n",
       "      <td>14027.929688</td>\n",
       "    </tr>\n",
       "  </tbody>\n",
       "</table>\n",
       "</div>"
      ],
      "text/plain": [
       "                  ^GSPC         ^IXIC        ^GDAXI\n",
       "Date                                               \n",
       "2022-05-09  3991.239990  11623.250000  13380.669922\n",
       "2022-05-10  4001.050049  11737.669922  13534.740234\n",
       "2022-05-11  3935.179932  11364.240234  13828.639648\n",
       "2022-05-12  3930.080078  11370.959961  13739.639648\n",
       "2022-05-13  4023.889893  11805.000000  14027.929688"
      ]
     },
     "execution_count": 35,
     "metadata": {},
     "output_type": "execute_result"
    }
   ],
   "source": [
    "ind_data.tail()"
   ]
  },
  {
   "cell_type": "code",
   "execution_count": 38,
   "id": "026b5225",
   "metadata": {},
   "outputs": [
    {
     "data": {
      "image/png": "[encoded data removed]",
      "text/plain": [
       "<Figure size 1080x432 with 1 Axes>"
      ]
     },
     "metadata": {
      "needs_background": "light"
     },
     "output_type": "display_data"
    }
   ],
   "source": [
    "(ind_data / ind_data.iloc[0] * 100).plot(figsize=(15,6));\n"
   ]
  },
  {
   "cell_type": "code",
   "execution_count": 39,
   "id": "1e44e9e4",
   "metadata": {},
   "outputs": [],
   "source": [
    "tickers = ['PG', \"^GSPC\", '^DJI']\n",
    "\n",
    "data_2 = pd.DataFrame()\n",
    "\n",
    "for t in tickers:\n",
    "    data_2[t] = wb.DataReader(t,data_source = 'yahoo', start = '2007-1-1')['Adj Close']"
   ]
  },
  {
   "cell_type": "code",
   "execution_count": 40,
   "id": "304b40d0",
   "metadata": {},
   "outputs": [
    {
     "data": {
      "text/html": [
       "<div>\n",
       "<style scoped>\n",
       "    .dataframe tbody tr th:only-of-type {\n",
       "        vertical-align: middle;\n",
       "    }\n",
       "\n",
       "    .dataframe tbody tr th {\n",
       "        vertical-align: top;\n",
       "    }\n",
       "\n",
       "    .dataframe thead th {\n",
       "        text-align: right;\n",
       "    }\n",
       "</style>\n",
       "<table border=\"1\" class=\"dataframe\">\n",
       "  <thead>\n",
       "    <tr style=\"text-align: right;\">\n",
       "      <th></th>\n",
       "      <th>PG</th>\n",
       "      <th>^GSPC</th>\n",
       "      <th>^DJI</th>\n",
       "    </tr>\n",
       "    <tr>\n",
       "      <th>Date</th>\n",
       "      <th></th>\n",
       "      <th></th>\n",
       "      <th></th>\n",
       "    </tr>\n",
       "  </thead>\n",
       "  <tbody>\n",
       "    <tr>\n",
       "      <th>2022-05-09</th>\n",
       "      <td>155.610001</td>\n",
       "      <td>3991.239990</td>\n",
       "      <td>32245.699219</td>\n",
       "    </tr>\n",
       "    <tr>\n",
       "      <th>2022-05-10</th>\n",
       "      <td>154.789993</td>\n",
       "      <td>4001.050049</td>\n",
       "      <td>32160.740234</td>\n",
       "    </tr>\n",
       "    <tr>\n",
       "      <th>2022-05-11</th>\n",
       "      <td>152.610001</td>\n",
       "      <td>3935.179932</td>\n",
       "      <td>31834.109375</td>\n",
       "    </tr>\n",
       "    <tr>\n",
       "      <th>2022-05-12</th>\n",
       "      <td>151.990005</td>\n",
       "      <td>3930.080078</td>\n",
       "      <td>31730.300781</td>\n",
       "    </tr>\n",
       "    <tr>\n",
       "      <th>2022-05-13</th>\n",
       "      <td>153.619995</td>\n",
       "      <td>4023.889893</td>\n",
       "      <td>32196.660156</td>\n",
       "    </tr>\n",
       "  </tbody>\n",
       "</table>\n",
       "</div>"
      ],
      "text/plain": [
       "                    PG        ^GSPC          ^DJI\n",
       "Date                                             \n",
       "2022-05-09  155.610001  3991.239990  32245.699219\n",
       "2022-05-10  154.789993  4001.050049  32160.740234\n",
       "2022-05-11  152.610001  3935.179932  31834.109375\n",
       "2022-05-12  151.990005  3930.080078  31730.300781\n",
       "2022-05-13  153.619995  4023.889893  32196.660156"
      ]
     },
     "execution_count": 40,
     "metadata": {},
     "output_type": "execute_result"
    }
   ],
   "source": [
    "data_2.tail()"
   ]
  },
  {
   "cell_type": "code",
   "execution_count": 41,
   "id": "76f1571b",
   "metadata": {},
   "outputs": [
    {
     "data": {
      "image/png": "[encoded data removed]",
      "text/plain": [
       "<Figure size 1080x432 with 1 Axes>"
      ]
     },
     "metadata": {
      "needs_background": "light"
     },
     "output_type": "display_data"
    }
   ],
   "source": [
    "(data_2/data_2.iloc[0] * 100).plot(figsize=(15,6));"
   ]
  },
  {
   "cell_type": "code",
   "execution_count": null,
   "id": "77ffc631",
   "metadata": {},
   "outputs": [],
   "source": []
  }
 ],
 "metadata": {
  "kernelspec": {
   "display_name": "Python 3",
   "language": "python",
   "name": "python3"
  },
  "language_info": {
   "codemirror_mode": {
    "name": "ipython",
    "version": 3
   },
   "file_extension": ".py",
   "mimetype": "text/x-python",
   "name": "python",
   "nbconvert_exporter": "python",
   "pygments_lexer": "ipython3",
   "version": "3.8.8"
  }
 },
 "nbformat": 4,
 "nbformat_minor": 5
}
